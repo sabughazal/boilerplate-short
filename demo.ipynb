{
 "cells": [
  {
   "cell_type": "code",
   "execution_count": null,
   "metadata": {},
   "outputs": [],
   "source": [
    "%reload_ext autoreload\n",
    "%autoreload 2\n",
    "\n",
    "import os\n",
    "import json\n",
    "import tqdm\n",
    "import numpy as np\n",
    "# import matplotlib.pyplot as plt\n",
    "# from sklearn.metrics import accuracy_score\n",
    "# from sklearn.metrics import f1_score\n",
    "\n",
    "from model import ModelType\n",
    "from dataset import DatasetType\n",
    "from utils import *\n",
    "\n",
    "\n",
    "RUN_NAME = \"20240703_183141\"\n",
    "DATA_ROOT = \"\"\n",
    "BATCH_SIZE = 32\n",
    "DEVICE = \"cuda\"\n"
   ]
  },
  {
   "cell_type": "code",
   "execution_count": null,
   "metadata": {},
   "outputs": [],
   "source": [
    "# load given inline arguments\n",
    "with open(os.path.join(\".\", \"runs\", RUN_NAME, \"args.json\")) as f:\n",
    "    run_args = json.loads(f.read())\n",
    "\n",
    "if DATA_ROOT.strip() == \"\":\n",
    "    DATA_ROOT = run_args[\"dataset_root\"]\n",
    "\n",
    "assert os.path.exists(DATA_ROOT), \"Invalid dataset root path!\""
   ]
  },
  {
   "cell_type": "code",
   "execution_count": null,
   "metadata": {},
   "outputs": [],
   "source": [
    "# load model\n",
    "model = ModelType()\n",
    "model = model.to(DEVICE)\n",
    "_ = load_checkpoint(\n",
    "    model=model,\n",
    "    device=DEVICE,\n",
    "    dirpath=os.path.join(\".\", \"runs\", RUN_NAME),\n",
    "    fname=\"best_chkpt.pt\",\n",
    ")\n",
    "num_params = count_model_params(model)\n",
    "print(\"The model has {:,} parameters.\".format(num_params))"
   ]
  },
  {
   "cell_type": "code",
   "execution_count": null,
   "metadata": {},
   "outputs": [],
   "source": [
    "# load dataset\n",
    "ds = DatasetType(DATA_ROOT, \"test\")\n",
    "data_loader = torch.utils.data.DataLoader(dataset=ds, batch_size=BATCH_SIZE, shuffle=True)\n",
    "print(\"Testing dataset has {:,} samples.\".format(len(ds)))"
   ]
  },
  {
   "cell_type": "code",
   "execution_count": null,
   "metadata": {},
   "outputs": [],
   "source": [
    "# example test loop\n",
    "model.eval()\n",
    "\n",
    "predictions = []\n",
    "groud_truth = []\n",
    "\n",
    "for inputs, targets in tqdm(data_loader, desc=\"Evaluation\"):\n",
    "    inputs = inputs.to(DEVICE)\n",
    "    targets = targets.to(DEVICE)\n",
    "\n",
    "    outputs = model(inputs)\n",
    "\n",
    "    predictions.append(outputs.detach().cpu().numpy())\n",
    "    groud_truth.append(targets.detach().cpu().numpy())\n",
    "\n",
    "# assuming the first axis is the batch size\n",
    "predictions = np.concatenate(predictions, axis=0)\n",
    "groud_truth = np.concatenate(groud_truth, axis=0)\n"
   ]
  }
 ],
 "metadata": {
  "kernelspec": {
   "display_name": "gpr",
   "language": "python",
   "name": "python3"
  },
  "language_info": {
   "codemirror_mode": {
    "name": "ipython",
    "version": 3
   },
   "file_extension": ".py",
   "mimetype": "text/x-python",
   "name": "python",
   "nbconvert_exporter": "python",
   "pygments_lexer": "ipython3",
   "version": "3.9.19"
  }
 },
 "nbformat": 4,
 "nbformat_minor": 2
}
